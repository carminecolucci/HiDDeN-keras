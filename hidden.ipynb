{
 "cells": [
  {
   "metadata": {},
   "cell_type": "markdown",
   "source": "# Execute `main.py` file",
   "id": "bea37fdce97030b"
  },
  {
   "metadata": {},
   "cell_type": "code",
   "outputs": [],
   "execution_count": null,
   "source": [
    "!curl -L -o coco-2017-dataset.zip https://www.kaggle.com/api/v1/datasets/download/awsaf49/coco-2017-dataset\n",
    "!mkdir dataset\n",
    "!rm -rf dataset/coco2017/\n",
    "!unzip coco-2017-dataset.zip -d dataset\n",
    "!mv dataset/coco2017/test2017 dataset/\n",
    "!mv dataset/coco2017/train2017 dataset/\n",
    "!mv dataset/coco2017/val2017 dataset/\n",
    "\n",
    "!mkdir dataset\n",
    "!kaggle config set -n path -v /content/dataset\n",
    "!kaggle datasets download awsaf49/coco-2017-dataset\n",
    "!mv dataset/coco2017/test2017 dataset/\n",
    "!mv dataset/coco2017/train2017 dataset/\n",
    "!mv dataset/coco2017/val2017 dataset/"
   ],
   "id": "f21a7d5d452fd02c"
  }
 ],
 "metadata": {},
 "nbformat": 5,
 "nbformat_minor": 9
}
